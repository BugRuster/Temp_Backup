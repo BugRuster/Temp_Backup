{
 "cells": [
  {
   "cell_type": "code",
   "execution_count": 1,
   "id": "77939b1e-b9c9-4c2b-bbdb-691e94fa534a",
   "metadata": {},
   "outputs": [],
   "source": [
    "import pandas as pd\n",
    "import random"
   ]
  },
  {
   "cell_type": "code",
   "execution_count": 14,
   "id": "fa201f32-c6d4-4e56-ae7a-019fc5770a2c",
   "metadata": {},
   "outputs": [
    {
     "name": "stdout",
     "output_type": "stream",
     "text": [
      "\n",
      "a. Message\n",
      "b. Contant\n",
      "c. Game\n",
      "    \n"
     ]
    },
    {
     "name": "stdin",
     "output_type": "stream",
     "text": [
      ":  c\n",
      "Guess Any Number Between 1 And 10:  6\n"
     ]
    },
    {
     "name": "stdout",
     "output_type": "stream",
     "text": [
      "Try Again !1!\n"
     ]
    },
    {
     "name": "stdin",
     "output_type": "stream",
     "text": [
      "Guess Any Number Between 1 And 10:  5\n"
     ]
    },
    {
     "name": "stdout",
     "output_type": "stream",
     "text": [
      "Try Again !1!\n"
     ]
    },
    {
     "name": "stdin",
     "output_type": "stream",
     "text": [
      "Guess Any Number Between 1 And 10:  7\n"
     ]
    },
    {
     "name": "stdout",
     "output_type": "stream",
     "text": [
      "Try Again !1!\n"
     ]
    },
    {
     "name": "stdin",
     "output_type": "stream",
     "text": [
      "Guess Any Number Between 1 And 10:  8\n"
     ]
    },
    {
     "name": "stdout",
     "output_type": "stream",
     "text": [
      "Try Again !1!\n"
     ]
    },
    {
     "name": "stdin",
     "output_type": "stream",
     "text": [
      "Guess Any Number Between 1 And 10:  9\n"
     ]
    },
    {
     "name": "stdout",
     "output_type": "stream",
     "text": [
      "Try Again !1!\n"
     ]
    },
    {
     "name": "stdin",
     "output_type": "stream",
     "text": [
      "Guess Any Number Between 1 And 10:  1\n"
     ]
    },
    {
     "name": "stdout",
     "output_type": "stream",
     "text": [
      "Try Again !1!\n"
     ]
    },
    {
     "name": "stdin",
     "output_type": "stream",
     "text": [
      "Guess Any Number Between 1 And 10:  2\n"
     ]
    },
    {
     "name": "stdout",
     "output_type": "stream",
     "text": [
      "You Gussed It !!!\n"
     ]
    }
   ],
   "source": [
    "def display_menu():\n",
    "    print(\"\"\"\n",
    "a. Message\n",
    "b. Contant\n",
    "c. Game\n",
    "    \"\"\")\n",
    "    return input(\": \")\n",
    "contants = {}\n",
    "messages = []\n",
    "mrcho = display_menu()\n",
    "if mrcho == 'a':\n",
    "    name = input(\"Recipient Name: \")\n",
    "    msg = input(\"Text: \")\n",
    "    layout = f\"-------------------------------\\nFrom: {name}\\nMessage: {msg}\\n\"\n",
    "    messages.append(layout)\n",
    "    print(layout)\n",
    "elif mrcho == 'b':\n",
    "    name = input(\"Name: \")\n",
    "    number = input(\"Contant Number: \")\n",
    "    contants[name] = number\n",
    "    print(contants)\n",
    "elif mrcho == 'c':\n",
    "    rand_num = random.randrange(1, 10)\n",
    "    while True:\n",
    "        guess = int(input(\"Guess Any Number Between 1 And 10: \"))\n",
    "        if rand_num == guess:\n",
    "            print(\"You Gussed It !!!\")\n",
    "            break\n",
    "        else:\n",
    "            print(\"Try Again !1!\")"
   ]
  },
  {
   "cell_type": "code",
   "execution_count": 3,
   "id": "bd264a9c-d5ae-473c-9d09-d3dd3ebdec0b",
   "metadata": {},
   "outputs": [
    {
     "name": "stdin",
     "output_type": "stream",
     "text": [
      "COST:  1000\n"
     ]
    },
    {
     "name": "stdout",
     "output_type": "stream",
     "text": [
      "1. Member\n",
      "2. Not A Member\n"
     ]
    },
    {
     "name": "stdin",
     "output_type": "stream",
     "text": [
      ":  2\n"
     ]
    },
    {
     "name": "stdout",
     "output_type": "stream",
     "text": [
      "\n",
      "Your Item Price After Discount 950.0\n"
     ]
    }
   ],
   "source": [
    "def is_member(cost, ismemb):\n",
    "    if ismemb:\n",
    "        final_cost = cost - (cost * 15 / 100)\n",
    "    else:\n",
    "        final_cost = cost - (cost * 5 / 100)\n",
    "    print(\"\\nYour Item Price After Discount\", final_cost)\n",
    "\n",
    "cost = int(input(\"COST: \"))\n",
    "print(\"1. Member\\n2. Not A Member\")\n",
    "memb = True if int(input(\": \")) == 1 else False\n",
    "is_member(cost, memb)"
   ]
  },
  {
   "cell_type": "code",
   "execution_count": 44,
   "id": "a5fdec37-65b9-4e0e-81e1-c10cfd71aa0c",
   "metadata": {},
   "outputs": [
    {
     "name": "stdin",
     "output_type": "stream",
     "text": [
      "List:  [0, 1, 2, 3, 4, 5, 6, 7, 8, 9]\n",
      "Shift Number:  4\n"
     ]
    },
    {
     "name": "stdout",
     "output_type": "stream",
     "text": [
      "\n",
      "List With Left Shift By 4 [4, 5, 6, 7, 8, 9, 0, 1, 2, 3]\n",
      "\n",
      "List With Right Shift By 4 [6, 7, 8, 9, 0, 1, 2, 3, 4, 5]\n"
     ]
    }
   ],
   "source": [
    "def circulate(lst, k, shift_order=\"left\"):\n",
    "    if shift_order == \"right\":\n",
    "        ls1 = lst[-k:]\n",
    "        ls2 = lst[:-k]\n",
    "        print(f\"\\nList With Right Shift By {k}\", ls1 + ls2)\n",
    "    elif shift_order == \"left\":\n",
    "        ls1 = lst[:k]\n",
    "        ls2 = lst[k:]\n",
    "        print(f\"\\nList With Left Shift By {k}\", ls2 + ls1)\n",
    "    else:\n",
    "        print(\"Something Went Wrong\")\n",
    "        \n",
    "# Example With 2 Args\n",
    "lst = eval(input(\"List: \"))\n",
    "k = int(input(\"Shift Number: \"))\n",
    "circulate(lst, k)\n",
    "# Example With 3 Args\n",
    "circulate(lst, k, \"right\")"
   ]
  },
  {
   "cell_type": "code",
   "execution_count": 64,
   "id": "e584a6af-64ab-4743-bc9e-c1df92186369",
   "metadata": {},
   "outputs": [
    {
     "name": "stdin",
     "output_type": "stream",
     "text": [
      "\n",
      "Speed:  12\n"
     ]
    },
    {
     "name": "stdout",
     "output_type": "stream",
     "text": [
      "OK\n"
     ]
    },
    {
     "name": "stdin",
     "output_type": "stream",
     "text": [
      "\n",
      "Speed:  120\n"
     ]
    },
    {
     "name": "stdout",
     "output_type": "stream",
     "text": [
      "Points:  10\n"
     ]
    },
    {
     "name": "stdin",
     "output_type": "stream",
     "text": [
      "\n",
      "Speed:  35\n"
     ]
    },
    {
     "name": "stdout",
     "output_type": "stream",
     "text": [
      "OK\n"
     ]
    },
    {
     "name": "stdin",
     "output_type": "stream",
     "text": [
      "\n",
      "Speed:  75\n"
     ]
    },
    {
     "name": "stdout",
     "output_type": "stream",
     "text": [
      "Points:  1\n"
     ]
    },
    {
     "name": "stdin",
     "output_type": "stream",
     "text": [
      "\n",
      "Speed:  0\n"
     ]
    },
    {
     "name": "stdout",
     "output_type": "stream",
     "text": [
      "OK\n"
     ]
    },
    {
     "name": "stdin",
     "output_type": "stream",
     "text": [
      "\n",
      "Speed:  70\n"
     ]
    },
    {
     "name": "stdout",
     "output_type": "stream",
     "text": [
      "OK\n"
     ]
    },
    {
     "name": "stdin",
     "output_type": "stream",
     "text": [
      "\n",
      "Speed:  80\n"
     ]
    },
    {
     "name": "stdout",
     "output_type": "stream",
     "text": [
      "Points:  2\n",
      "\n",
      "\n",
      "\n",
      "License Suspended\n",
      "Total Demerit:  13\n"
     ]
    }
   ],
   "source": [
    "demerit = 0\n",
    "def lin_sus(speed):\n",
    "    if speed <= 70:\n",
    "        print(\"OK\")\n",
    "    else:\n",
    "        global demerit\n",
    "        points = (speed - 70) // 5\n",
    "        demerit = points + demerit\n",
    "        print(\"Points: \", points)\n",
    "while True:\n",
    "    if demerit >= 12:\n",
    "        print(\"\\n\\n\\nLicense Suspended\")\n",
    "        print(\"Total Demerit: \", demerit)\n",
    "        break\n",
    "    speed = int(input(\"\\nSpeed: \"))\n",
    "    lin_sus(speed)"
   ]
  },
  {
   "cell_type": "code",
   "execution_count": 23,
   "id": "ff4f773d-cc0e-4655-b51c-39bd0da4aeb3",
   "metadata": {},
   "outputs": [
    {
     "name": "stdout",
     "output_type": "stream",
     "text": [
      "3, 5, 6, 7, 9, 10, 12, 14, 15, 18, 20, \n",
      "\n",
      "SUM OF MULTIPLE OF 3, 5, 7 ->  119\n"
     ]
    }
   ],
   "source": [
    "def limit_sum(limit):\n",
    "    _sum = 0\n",
    "    for i in range(1, limit + 1):\n",
    "        if i % 3 == 0 or i % 5 == 0 or i % 7 == 0:\n",
    "            print(i, end=\", \")\n",
    "            _sum = _sum + i\n",
    "    return _sum\n",
    "\n",
    "ml_sum = limit_sum(20)\n",
    "print(\"\\n\\nSUM OF MULTIPLE OF 3, 5, 7 -> \", ml_sum)"
   ]
  },
  {
   "cell_type": "code",
   "execution_count": 34,
   "id": "cc380f32-f4b1-4365-8ed1-981a8dfeeed9",
   "metadata": {},
   "outputs": [
    {
     "name": "stdout",
     "output_type": "stream",
     "text": [
      "                                                                String\n",
      "POC:  70\n"
     ]
    }
   ],
   "source": [
    "def right_justify(s):\n",
    "    ans = s.rjust(70)\n",
    "    print(ans)\n",
    "    # POC \n",
    "    print(\"POC: \", ans.index('g') + 1)\n",
    "    \n",
    "right_justify(\"String\")"
   ]
  },
  {
   "cell_type": "code",
   "execution_count": 37,
   "id": "b1139e44-14a6-4ff7-9cf1-00a14e28d300",
   "metadata": {},
   "outputs": [
    {
     "name": "stdout",
     "output_type": "stream",
     "text": [
      "True\n",
      "False\n"
     ]
    }
   ],
   "source": [
    "def is_curzon_number(num):\n",
    "    firstST = 2 ** num + 1 \n",
    "    secondST = 2 * num + 1\n",
    "    \n",
    "    if firstST % secondST == 0:\n",
    "        return True\n",
    "    else:\n",
    "        return False\n",
    "    \n",
    "print(is_curzon_number(5))\n",
    "print(is_curzon_number(10))"
   ]
  },
  {
   "cell_type": "code",
   "execution_count": 38,
   "id": "9a06fa54-6c8b-4351-8a73-dc6784200be6",
   "metadata": {},
   "outputs": [
    {
     "data": {
      "text/plain": [
       "'-------------------------------------------------------\\n--------------------------------------------------------------------\\n--------------------------------------------------------------------\\n----------------------------------------------------------------'"
      ]
     },
     "execution_count": 38,
     "metadata": {},
     "output_type": "execute_result"
    }
   ],
   "source": [
    "\"\"\"-------------------------------------------------------\n",
    "--------------------------------------------------------------------\n",
    "--------------------------------------------------------------------\n",
    "----------------------------------------------------------------\"\"\""
   ]
  },
  {
   "cell_type": "code",
   "execution_count": 52,
   "id": "c7f5794c-9a87-4e75-979f-19ea9ae05f25",
   "metadata": {},
   "outputs": [
    {
     "data": {
      "text/plain": [
       "2.4"
      ]
     },
     "execution_count": 52,
     "metadata": {},
     "output_type": "execute_result"
    }
   ],
   "source": [
    "def bowler(bowls):\n",
    "    bowls = 16\n",
    "    overs = bowls // 6\n",
    "    rem_bowls = bowls % 6\n",
    "    return float(f\"{overs}.{rem_bowls}\")\n",
    "\n",
    "ans = bowler(16)\n",
    "ans"
   ]
  },
  {
   "cell_type": "code",
   "execution_count": 54,
   "id": "0ae71db6-c29b-4666-9f59-8227bfc0b805",
   "metadata": {},
   "outputs": [
    {
     "data": {
      "text/plain": [
       "'-------------------------------------------------------\\n--------------------------------------------------------------------\\n--------------------------------------------------------------------\\n----------------------------------------------------------------'"
      ]
     },
     "execution_count": 54,
     "metadata": {},
     "output_type": "execute_result"
    }
   ],
   "source": [
    "\"\"\"-------------------------------------------------------\n",
    "--------------------------------------------------------------------\n",
    "--------------------------------------------------------------------\n",
    "----------------------------------------------------------------\"\"\""
   ]
  },
  {
   "cell_type": "code",
   "execution_count": 67,
   "id": "2c0808bb-a8dd-4eee-a73c-d5c90333d89e",
   "metadata": {},
   "outputs": [
    {
     "name": "stdin",
     "output_type": "stream",
     "text": [
      " I Love Python With Mixture Of CYthon\n"
     ]
    },
    {
     "name": "stdout",
     "output_type": "stream",
     "text": [
      "\n",
      " {'a': 0, 'e': 2, 'i': 3, 'o': 4, 'u': 1}\n"
     ]
    }
   ],
   "source": [
    "def findVol(string):\n",
    "    diction = {'a': 0, 'e': 0, 'i': 0, 'o': 0, 'u': 0}\n",
    "    vowels = ['a', 'e', 'i', 'o', 'u']\n",
    "    for i in string.lower():\n",
    "        if i in vowels:\n",
    "            diction[i] = diction[i] + 1\n",
    "    print(\"\\n\", diction)\n",
    "    \n",
    "string = input()\n",
    "findVol(string)"
   ]
  },
  {
   "cell_type": "code",
   "execution_count": 82,
   "id": "daab2feb-0324-47f1-8f65-f60aac5181e4",
   "metadata": {},
   "outputs": [
    {
     "name": "stdout",
     "output_type": "stream",
     "text": [
      "\n",
      "1. Add State\n",
      "2. Display Details\n",
      "3. Display Capital\n",
      "4. Display Total Population\n",
      "5. Display State Name If Lenght Above 10\n",
      "6. Display Ordered State Names\n",
      "7. Exit\n",
      "    \n"
     ]
    },
    {
     "name": "stdin",
     "output_type": "stream",
     "text": [
      ":  1\n",
      "State:  Rajasthan\n",
      "Capital:  Jaipur\n",
      "Area In SQKM:  123456\n",
      "Population:  123456787654\n",
      "Literacy Rate: 99\n"
     ]
    },
    {
     "name": "stdout",
     "output_type": "stream",
     "text": [
      "\n",
      "1. Add State\n",
      "2. Display Details\n",
      "3. Display Capital\n",
      "4. Display Total Population\n",
      "5. Display State Name If Lenght Above 10\n",
      "6. Display Ordered State Names\n",
      "7. Exit\n",
      "    \n"
     ]
    },
    {
     "name": "stdin",
     "output_type": "stream",
     "text": [
      ":  2\n",
      "State:  Rajasthan\n"
     ]
    },
    {
     "name": "stdout",
     "output_type": "stream",
     "text": [
      "{'Capital': 'Jaipur', 'Area In SQKM': 123456, 'Population': 123456787654, 'Literacy Rate': 99.0}\n",
      "\n",
      "1. Add State\n",
      "2. Display Details\n",
      "3. Display Capital\n",
      "4. Display Total Population\n",
      "5. Display State Name If Lenght Above 10\n",
      "6. Display Ordered State Names\n",
      "7. Exit\n",
      "    \n"
     ]
    },
    {
     "name": "stdin",
     "output_type": "stream",
     "text": [
      ":  3\n",
      "State:  Rajasthan\n"
     ]
    },
    {
     "name": "stdout",
     "output_type": "stream",
     "text": [
      "\n",
      "Capital of Rajasthan is Jaipur\n",
      "\n",
      "1. Add State\n",
      "2. Display Details\n",
      "3. Display Capital\n",
      "4. Display Total Population\n",
      "5. Display State Name If Lenght Above 10\n",
      "6. Display Ordered State Names\n",
      "7. Exit\n",
      "    \n"
     ]
    },
    {
     "name": "stdin",
     "output_type": "stream",
     "text": [
      ":  1\n",
      "State:  Delhi\n",
      "Capital:  Mea\n",
      "Area In SQKM:  123\n",
      "Population:  2345345\n",
      "Literacy Rate: 100\n"
     ]
    },
    {
     "name": "stdout",
     "output_type": "stream",
     "text": [
      "\n",
      "1. Add State\n",
      "2. Display Details\n",
      "3. Display Capital\n",
      "4. Display Total Population\n",
      "5. Display State Name If Lenght Above 10\n",
      "6. Display Ordered State Names\n",
      "7. Exit\n",
      "    \n"
     ]
    },
    {
     "name": "stdin",
     "output_type": "stream",
     "text": [
      ":  5\n"
     ]
    },
    {
     "name": "stdout",
     "output_type": "stream",
     "text": [
      "\n",
      "1. Add State\n",
      "2. Display Details\n",
      "3. Display Capital\n",
      "4. Display Total Population\n",
      "5. Display State Name If Lenght Above 10\n",
      "6. Display Ordered State Names\n",
      "7. Exit\n",
      "    \n"
     ]
    },
    {
     "name": "stdin",
     "output_type": "stream",
     "text": [
      ":  6\n"
     ]
    },
    {
     "name": "stdout",
     "output_type": "stream",
     "text": [
      "Delhi\n",
      "Rajasthan\n",
      "\n",
      "1. Add State\n",
      "2. Display Details\n",
      "3. Display Capital\n",
      "4. Display Total Population\n",
      "5. Display State Name If Lenght Above 10\n",
      "6. Display Ordered State Names\n",
      "7. Exit\n",
      "    \n"
     ]
    },
    {
     "name": "stdin",
     "output_type": "stream",
     "text": [
      ":  7\n"
     ]
    }
   ],
   "source": [
    "data = {}\n",
    "\n",
    "def add_state():\n",
    "    state = input(\"State: \")\n",
    "    capital = input(\"Capital: \")\n",
    "    area = int(input(\"Area In SQKM: \"))\n",
    "    poplu = int(input(\"Population: \"))\n",
    "    lit_rate = float(input(\"Literacy Rate:\" ))\n",
    "    data[state] = {'Capital': capital, 'Area In SQKM': area, 'Population': poplu, 'Literacy Rate': lit_rate}\n",
    "\n",
    "def dis_deta_by_state(state):\n",
    "    print(data[state])\n",
    "    \n",
    "def dis_cap_by_state(state):\n",
    "    print(f\"\\nCapital of {state} is {data[state]['Capital']}\")\n",
    "    \n",
    "def dis_pop_by_state(state):\n",
    "    print(f\"\\nTotal Population of {state} is {data[state]['Population']}\")\n",
    "    \n",
    "def dis_state_iflen():\n",
    "    for key, val in data.items():\n",
    "        if len(key) >= 10:\n",
    "            print(key)\n",
    "            \n",
    "def dis_state_order_name():\n",
    "    sort = sorted(data)\n",
    "    for i in sort:\n",
    "        print(i)\n",
    "        \n",
    "        \n",
    "while True:\n",
    "    print(\"\"\"\n",
    "1. Add State\n",
    "2. Display Details\n",
    "3. Display Capital\n",
    "4. Display Total Population\n",
    "5. Display State Name If Lenght Above 10\n",
    "6. Display Ordered State Names\n",
    "7. Exit\n",
    "    \"\"\")\n",
    "    cho = int(input(\": \"))\n",
    "    if cho == 1:\n",
    "        add_state()\n",
    "    elif cho == 2:\n",
    "        dis_deta_by_state(input(\"State: \"))\n",
    "    elif cho == 3:\n",
    "        dis_cap_by_state(input(\"State: \"))\n",
    "    elif cho == 4:\n",
    "        dis_pop_by_state((input(\"State: \")))\n",
    "    elif cho == 5:\n",
    "        dis_state_iflen()\n",
    "    elif cho == 6:\n",
    "        dis_state_order_name()\n",
    "    elif cho == 7:\n",
    "        break"
   ]
  },
  {
   "cell_type": "code",
   "execution_count": 84,
   "id": "c3e9656d-83e4-4f18-a4c8-e64d943b95b1",
   "metadata": {},
   "outputs": [
    {
     "name": "stdin",
     "output_type": "stream",
     "text": [
      ":  2\n"
     ]
    },
    {
     "name": "stdout",
     "output_type": "stream",
     "text": [
      "\n",
      "Even Dictionary:  {2: [4, 8]}\n",
      "\n",
      "Odd Dictionary:  {}\n"
     ]
    },
    {
     "name": "stdin",
     "output_type": "stream",
     "text": [
      ":  8\n"
     ]
    },
    {
     "name": "stdout",
     "output_type": "stream",
     "text": [
      "\n",
      "Even Dictionary:  {2: [4, 8], 8: [64, 512]}\n",
      "\n",
      "Odd Dictionary:  {}\n"
     ]
    },
    {
     "name": "stdin",
     "output_type": "stream",
     "text": [
      ":  1\n"
     ]
    },
    {
     "name": "stdout",
     "output_type": "stream",
     "text": [
      "\n",
      "Even Dictionary:  {2: [4, 8], 8: [64, 512]}\n",
      "\n",
      "Odd Dictionary:  {1: [1, 1]}\n"
     ]
    },
    {
     "name": "stdin",
     "output_type": "stream",
     "text": [
      ":  5\n"
     ]
    },
    {
     "name": "stdout",
     "output_type": "stream",
     "text": [
      "\n",
      "Even Dictionary:  {2: [4, 8], 8: [64, 512]}\n",
      "\n",
      "Odd Dictionary:  {1: [1, 1], 5: [25, 125]}\n"
     ]
    },
    {
     "name": "stdin",
     "output_type": "stream",
     "text": [
      ":  over\n"
     ]
    }
   ],
   "source": [
    "even = {}\n",
    "odd = {}\n",
    "\n",
    "while True:\n",
    "    num = input(\": \")\n",
    "    if num == \"over\":\n",
    "        break\n",
    "    num = int(num)\n",
    "    if num % 2 == 0:\n",
    "        even[num] = [num ** 2, num ** 3]\n",
    "    else:\n",
    "        odd[num] = [num ** 2, num ** 3]\n",
    "    print(\"\\nEven Dictionary: \", even)\n",
    "    print(\"\\nOdd Dictionary: \", odd)"
   ]
  },
  {
   "cell_type": "code",
   "execution_count": 118,
   "id": "70979f7d-03ec-4ae9-9bc9-2da0061896b3",
   "metadata": {},
   "outputs": [
    {
     "name": "stdout",
     "output_type": "stream",
     "text": [
      "[111, 4, 15, 22, 15, 4, 111]\n"
     ]
    }
   ],
   "source": [
    "lst = [12, 3, 7, 22, 8, 1, 99]\n",
    "newlst = []\n",
    "lstLen = len(lst)\n",
    "\n",
    "for i, j in zip(lst, lst[::-1]):\n",
    "    newlst.append(i + j)\n",
    "\n",
    "if lstLen % 2 != 0:\n",
    "    newlst[lstLen // 2] = newlst[lstLen // 2] // 2\n",
    "\n",
    "print(newlst)"
   ]
  },
  {
   "cell_type": "code",
   "execution_count": 119,
   "id": "7134160e-5d0b-4854-9608-7b974d83a345",
   "metadata": {},
   "outputs": [
    {
     "name": "stdin",
     "output_type": "stream",
     "text": [
      "List:  [1, 2, 3, 4, 5 ,6, 7]\n",
      "Shift Number:  2\n"
     ]
    },
    {
     "name": "stdout",
     "output_type": "stream",
     "text": [
      "\n",
      "List With Left Shift By 2 [3, 4, 5, 6, 7, 1, 2]\n",
      "\n",
      "List With Right Shift By 2 [6, 7, 1, 2, 3, 4, 5]\n"
     ]
    }
   ],
   "source": [
    "def circulate(lst, k, shift_order=\"left\"):\n",
    "    if shift_order == \"right\":\n",
    "        ls1 = lst[-k:]\n",
    "        ls2 = lst[:-k]\n",
    "        print(f\"\\nList With Right Shift By {k}\", ls1 + ls2)\n",
    "    elif shift_order == \"left\":\n",
    "        ls1 = lst[:k]\n",
    "        ls2 = lst[k:]\n",
    "        print(f\"\\nList With Left Shift By {k}\", ls2 + ls1)\n",
    "    else:\n",
    "        print(\"Something Went Wrong\")\n",
    "        \n",
    "# Example With 2 Args\n",
    "lst = eval(input(\"List: \"))\n",
    "k = int(input(\"Shift Number: \"))\n",
    "circulate(lst, k)\n",
    "# Example With 3 Args\n",
    "circulate(lst, k, \"right\")"
   ]
  },
  {
   "cell_type": "code",
   "execution_count": 130,
   "id": "02ad17c1-b54d-46f3-bd95-fa7570f04175",
   "metadata": {},
   "outputs": [
    {
     "name": "stdin",
     "output_type": "stream",
     "text": [
      "String:  I Will Gonna Do This At Any Code\n",
      "\n",
      "1. Total Counts Of Both Case\n",
      "2. Total Count Of Word Case\n",
      "3. Total Count With Upper Case\n",
      "4. Exit\n",
      "    :  1\n"
     ]
    },
    {
     "name": "stdout",
     "output_type": "stream",
     "text": [
      "Total Letter With Hole 6\n",
      "Total Letter Without Hole 26\n"
     ]
    },
    {
     "name": "stdin",
     "output_type": "stream",
     "text": [
      "\n",
      "1. Total Counts Of Both Case\n",
      "2. Total Count Of Word Case\n",
      "3. Total Count With Upper Case\n",
      "4. Exit\n",
      "    :  2\n"
     ]
    },
    {
     "name": "stdout",
     "output_type": "stream",
     "text": [
      "Gonna Code "
     ]
    },
    {
     "name": "stdin",
     "output_type": "stream",
     "text": [
      "\n",
      "1. Total Counts Of Both Case\n",
      "2. Total Count Of Word Case\n",
      "3. Total Count With Upper Case\n",
      "4. Exit\n",
      "    :  3\n"
     ]
    },
    {
     "name": "stdout",
     "output_type": "stream",
     "text": [
      "Total Letter With Hole 10\n",
      "Total Letter Without Hole 22\n"
     ]
    },
    {
     "name": "stdin",
     "output_type": "stream",
     "text": [
      "\n",
      "1. Total Counts Of Both Case\n",
      "2. Total Count Of Word Case\n",
      "3. Total Count With Upper Case\n",
      "4. Exit\n",
      "    :  4\n"
     ]
    }
   ],
   "source": [
    "lst = ['a', 'b', 'd', 'e', 'g', 'o', 'p', 'q']\n",
    "\n",
    "def has_hole(string, is_module_call=False, upper=False):\n",
    "    hole_count = 0\n",
    "    not_hole_count = 0\n",
    "    for i in list(string):\n",
    "        if upper == True and i.lower() in lst:\n",
    "            hole_count += 1\n",
    "        elif i in lst:\n",
    "            hole_count += 1\n",
    "        else:\n",
    "            not_hole_count += 1\n",
    "    \n",
    "    if is_module_call:\n",
    "        return hole_count\n",
    "    else:\n",
    "        print(\"Total Letter With Hole\", hole_count)\n",
    "        print(\"Total Letter Without Hole\", not_hole_count)\n",
    "    \n",
    "def word_has_holes(string):\n",
    "    words = string.split(\" \")\n",
    "    for word in words:\n",
    "        num_holes = has_hole(word, is_module_call=True)\n",
    "        if num_holes >= 2:\n",
    "            print(word, end=\" \")\n",
    "\n",
    "def has_hole_with_upper(string):\n",
    "    has_hole(string, upper=True)\n",
    "    \n",
    "string = input(\"String: \")\n",
    "while True:\n",
    "    cho = int(input(\"\"\"\n",
    "1. Total Counts Of Both Case\n",
    "2. Total Count Of Word Case\n",
    "3. Total Count With Upper Case\n",
    "4. Exit\n",
    "    : \"\"\"))\n",
    "\n",
    "    if cho == 1:\n",
    "        has_hole(string)\n",
    "    elif cho == 2:\n",
    "        word_has_holes(string)\n",
    "    elif cho == 3:\n",
    "        has_hole_with_upper(string)\n",
    "    elif cho == 4:\n",
    "        break"
   ]
  },
  {
   "cell_type": "code",
   "execution_count": 153,
   "id": "4625c9b6-eeef-404d-b842-941b3251f936",
   "metadata": {},
   "outputs": [
    {
     "name": "stdout",
     "output_type": "stream",
     "text": [
      "1.7320508075688772\n",
      "2.0\n",
      "2.23606797749979\n",
      "2.449489742783178\n",
      "2.6457513110645907\n",
      "2.8284271247461903\n",
      "3.0\n",
      "3.1622776601683795\n",
      "3.3166247903554\n",
      "3.4641016151377544\n",
      "3.605551275463989\n",
      "3.7416573867739413\n",
      "3.872983346207417\n",
      "4.0\n",
      "4.123105625617661\n",
      "4.242640687119285\n",
      "4.358898943540674\n"
     ]
    },
    {
     "data": {
      "text/plain": [
       "'-------------------------------------------------------\\n--------------------------------------------------------------------\\n--------------------------------------------------------------------\\n----------------------------------------------------------------'"
      ]
     },
     "execution_count": 153,
     "metadata": {},
     "output_type": "execute_result"
    }
   ],
   "source": [
    "ss = 1\n",
    "\n",
    "for i in range(2, 19):\n",
    "    _sum = ss + i\n",
    "    sqrt = _sum ** 0.5\n",
    "    print(sqrt)\n",
    "    \n",
    "\"\"\"-------------------------------------------------------\n",
    "--------------------------------------------------------------------\n",
    "--------------------------------------------------------------------\n",
    "----------------------------------------------------------------\"\"\""
   ]
  },
  {
   "cell_type": "code",
   "execution_count": 173,
   "id": "3314380e-a922-48a8-bbe5-53ae5b8ea996",
   "metadata": {},
   "outputs": [
    {
     "name": "stdout",
     "output_type": "stream",
     "text": [
      "26\n",
      "4 - 3 + 5 ** 2 --> 26\n",
      "4 % 3 + 5 ** 2 --> 26\n",
      "4 + 5 ** 2 - 3 --> 26\n",
      "5 ** 2 - 3 + 4 --> 26\n",
      "5 ** 2 + 4 - 3 --> 26\n",
      "5 ** 2 + 4 % 3 --> 26\n"
     ]
    }
   ],
   "source": [
    "# Easy Method\n",
    "exper = eval(\"5 ** 2 - 3 + 4\")\n",
    "print(exper)\n",
    "\n",
    "# Using Power Of Python Finding All Possible Expressions\n",
    "from itertools import permutations\n",
    "number_permutations = list(permutations(\"2345\"))\n",
    "operator_permutations = list(permutations(['+', '-', '*', '**', '/', '%'], 3))\n",
    "\n",
    "for i in number_permutations:\n",
    "    for j in operator_permutations:\n",
    "        string = f\"{i[0]} {j[0]} {i[1]} {j[1]} {i[2]} {j[2]} {i[3]}\"\n",
    "        if eval(string) == 26:\n",
    "            print(string, \"-->\", eval(string))"
   ]
  },
  {
   "cell_type": "code",
   "execution_count": 20,
   "id": "8a1dbeff-cfc8-474f-8d47-72ef8f96c976",
   "metadata": {
    "tags": []
   },
   "outputs": [
    {
     "name": "stdout",
     "output_type": "stream",
     "text": [
      "12+3+4+5+6+7+8+9 -> 54\n",
      "1+23+4+5+6+7+8+9 -> 63\n",
      "1+2+34+5+6+7+8+9 -> 72\n",
      "1+2+3+45+6+7+8+9 -> 81\n",
      "1+2+3+4+56+7+8+9 -> 90\n",
      "1+2+3+4+5+67+8+9 -> 99\n",
      "1+2+3+4+5+6+78+9 -> 108\n",
      "1+2+3+4+5+6+7+89 -> 117\n",
      "CPU times: user 6.49 ms, sys: 237 µs, total: 6.73 ms\n",
      "Wall time: 5.65 ms\n"
     ]
    }
   ],
   "source": [
    "%%time\n",
    "\n",
    "string = \"1+2+3+4+5+6+7+8+9\"\n",
    "def find_indices_of_substring(full_string, sub_string):\n",
    "    return [index for index in range(len(full_string)) if full_string.startswith(sub_string, index)]\n",
    "indices = find_indices_of_substring(string, '+')\n",
    "lst_string = list(string)\n",
    "bk_lst_string = list(string)\n",
    "\n",
    "for i in indices:\n",
    "    lst_string.pop(i)\n",
    "    gen_string = \"\".join(lst_string)\n",
    "    print(gen_string, '->', eval(gen_string))\n",
    "    lst_string = bk_lst_string.copy()"
   ]
  },
  {
   "cell_type": "code",
   "execution_count": null,
   "id": "49979fdc-865a-4e2c-b455-d811ec342f50",
   "metadata": {
    "tags": []
   },
   "outputs": [],
   "source": [
    "%%time\n",
    "\n",
    "string = \"1+2+3+4+5+6+7+8+9\"\n",
    "def find_indices_of_substring(full_string, sub_string):\n",
    "    return [index for index in range(len(full_string)) if full_string.startswith(sub_string, index)]\n",
    "indices = find_indices_of_substring(string, '+')\n",
    "lst_string = list(string)\n",
    "bk_lst_string = list(string)\n",
    "\n",
    "for i in indices:\n",
    "    "
   ]
  },
  {
   "cell_type": "code",
   "execution_count": 78,
   "id": "682db277-d2f7-414f-8024-d0a6a46ebbe8",
   "metadata": {},
   "outputs": [
    {
     "name": "stdout",
     "output_type": "stream",
     "text": [
      "1+2+3+4+5+8+9+67 -> 99\n",
      "1+2+3+4+5+7+9+68 -> 99\n",
      "1+2+3+4+5+7+8+69 -> 99\n"
     ]
    }
   ],
   "source": [
    "from itertools import combinations\n",
    "string = \"123456789\"\n",
    "lst_string = list(string)\n",
    "bklst_string = list(string)\n",
    "combis = combinations(string, 2)\n",
    "for tupCom in combis:\n",
    "    pos_val = \"\".join(tupCom)\n",
    "    for ele in tupCom:\n",
    "        lst_string.remove(ele)\n",
    "    # print(lst_string)\n",
    "    lst_string = lst_string + [pos_val]\n",
    "    sum_lst_string = sum(map(int, lst_string))\n",
    "    if sum_lst_string == 99:\n",
    "        expr = \"+\".join(lst_string)\n",
    "        print(expr, '->', sum_lst_string)\n",
    "    lst_string = bklst_string.copy()"
   ]
  },
  {
   "cell_type": "code",
   "execution_count": null,
   "id": "047316bf-fd11-4145-a9fd-f578f96cd682",
   "metadata": {},
   "outputs": [],
   "source": []
  },
  {
   "cell_type": "code",
   "execution_count": null,
   "id": "6a191d1d-ad6d-46de-a84d-1fec4df92447",
   "metadata": {},
   "outputs": [],
   "source": []
  },
  {
   "cell_type": "code",
   "execution_count": null,
   "id": "cd068ef5-d550-48ca-bc5f-7019391d0ee7",
   "metadata": {},
   "outputs": [],
   "source": []
  }
 ],
 "metadata": {
  "kernelspec": {
   "display_name": "Python 3 (ipykernel)",
   "language": "python",
   "name": "python3"
  },
  "language_info": {
   "codemirror_mode": {
    "name": "ipython",
    "version": 3
   },
   "file_extension": ".py",
   "mimetype": "text/x-python",
   "name": "python",
   "nbconvert_exporter": "python",
   "pygments_lexer": "ipython3",
   "version": "3.9.7"
  }
 },
 "nbformat": 4,
 "nbformat_minor": 5
}
